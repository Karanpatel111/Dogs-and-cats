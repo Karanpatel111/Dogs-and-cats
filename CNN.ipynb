{
 "cells": [
  {
   "cell_type": "code",
   "execution_count": 1,
   "id": "f385d5ae",
   "metadata": {},
   "outputs": [],
   "source": [
    "#pip install keras\n",
    "import tensorflow as tf\n",
    "tf.__version__\n",
    "from keras.preprocessing.image import ImageDataGenerator"
   ]
  },
  {
   "cell_type": "code",
   "execution_count": 2,
   "id": "a4757bbd",
   "metadata": {},
   "outputs": [
    {
     "name": "stdout",
     "output_type": "stream",
     "text": [
      "Found 8000 images belonging to 2 classes.\n"
     ]
    }
   ],
   "source": [
    "data_training = ImageDataGenerator(rescale=1./255,\n",
    "                                  horizontal_flip = True)\n",
    "training_data = data_training.flow_from_directory('dataset/training_set',\n",
    "                                                 target_size = (64,64),\n",
    "                                                 batch_size = 32,\n",
    "                                                 class_mode = 'binary')"
   ]
  },
  {
   "cell_type": "code",
   "execution_count": 3,
   "id": "830eb436",
   "metadata": {},
   "outputs": [
    {
     "name": "stdout",
     "output_type": "stream",
     "text": [
      "Found 2000 images belonging to 2 classes.\n"
     ]
    }
   ],
   "source": [
    "data_test = ImageDataGenerator(rescale=1./255)\n",
    "test_data = data_test.flow_from_directory('dataset/test_set',\n",
    "                                         target_size = (64,64),\n",
    "                                         batch_size = 32,\n",
    "                                         class_mode = 'binary')"
   ]
  },
  {
   "cell_type": "code",
   "execution_count": 14,
   "id": "1b4b7771",
   "metadata": {},
   "outputs": [],
   "source": [
    "from matplotlib import pyplot\n",
    "import numpy as np\n",
    "from keras.preprocessing import image\n",
    "%matplotlib inline"
   ]
  },
  {
   "cell_type": "code",
   "execution_count": null,
   "id": "ce2a3100",
   "metadata": {},
   "outputs": [],
   "source": [
    "# import numpy as np\n",
    "# from keras.models import Sequential\n",
    "# from keras.layers import AveragePooling2D\n",
    "# average pooling and max pooling example\n",
    "# # define input image\n",
    "# image = np.array([\n",
    "#         [2, 2, 7, 3],\n",
    "# \t\t\t\t[9, 4, 6, 1],\n",
    "# \t\t\t\t[8, 5, 2, 4],\n",
    "# \t\t\t\t[3, 1, 2, 6]])\n",
    "# image = image.reshape(1, 4, 4, 1)\n",
    "# image = image.astype(np.float32)\n",
    "# # define model containing just a single average pooling layer\n",
    "# model = Sequential([tf.keras.layers.AveragePooling2D(pool_size=2, strides=2)])\n",
    "\n",
    "# # generate pooled output\n",
    "# output = model.predict(image)\n",
    "\n",
    "# # print output image\n",
    "# output = np.squeeze(output)\n",
    "# print(output)"
   ]
  },
  {
   "cell_type": "code",
   "execution_count": 6,
   "id": "cf7f0a49",
   "metadata": {},
   "outputs": [],
   "source": [
    "#defining the models sequential then we will add layers to the model\n",
    "cnn = tf.keras.models.Sequential()\n",
    "# 1.convolution\n",
    "cnn.add(tf.keras.layers.Conv2D(filters=32,                            # filter means how many output convolutional matrix do you want\n",
    "                               kernel_size = 3,                       # size of filter matrix ( must be an odd like 3*3 , 5*5 etc.)\n",
    "                               kernel_initializer = 'glorot_uniform', # initialize all the value before training, another method 'he_uniform'\n",
    "                               activation = 'relu',                   # activation function to remove linearity form dataset otherwise CNN simply work as a linear regression\n",
    "                               padding = 'same',                      # padding same means input matrix size is same as output matrix size, \n",
    "                               input_shape = [64,64,3]))              # it will add layers of 0 at the border of the image to preserve the information of border and edges.\n",
    "                                                                      # input shape of image 64 height,64 width and 3 for colour\n",
    "# 2.pooling\n",
    "cnn.add(tf.keras.layers.MaxPool2D(pool_size=2, # used to reduce the dimentions of convolutional matrix\n",
    "                                               # take 2*2 array from first position \n",
    "                                  strides=2))  # strides=2 means take another 2*2 matrix but move 2 steps right from previous postion\n",
    "# 3.adding second layer\n",
    "cnn.add(tf.keras.layers.Conv2D(filters=64,\n",
    "                               kernel_size = 3,\n",
    "                               padding = 'same',\n",
    "                               kernel_initializer = 'glorot_uniform',\n",
    "                               activation = 'relu'))\n",
    "cnn.add(tf.keras.layers.MaxPool2D(pool_size=2,\n",
    "                                  strides=2))"
   ]
  },
  {
   "cell_type": "code",
   "execution_count": 7,
   "id": "78517e3f",
   "metadata": {},
   "outputs": [],
   "source": [
    "# flattening layer\n",
    "cnn.add(tf.keras.layers.Flatten()) # convert 2D array into single long continuous linear vector"
   ]
  },
  {
   "cell_type": "code",
   "execution_count": 8,
   "id": "61667baa",
   "metadata": {},
   "outputs": [],
   "source": [
    "# adding full connection\n",
    "cnn.add(tf.keras.layers.Dense(units=128, activation = 'relu'))"
   ]
  },
  {
   "cell_type": "code",
   "execution_count": 9,
   "id": "1f761c1f",
   "metadata": {},
   "outputs": [],
   "source": [
    "# adding output layer\n",
    "cnn.add(tf.keras.layers.Dense(units=1, activation = 'sigmoid')) # sigmoid activation where we have binary classification\n",
    "                                                                # softmax for multiple class classification"
   ]
  },
  {
   "cell_type": "code",
   "execution_count": 10,
   "id": "fc8fa3fb",
   "metadata": {},
   "outputs": [],
   "source": [
    "cnn.compile(optimizer = 'adam', loss ='binary_crossentropy', metrics = ['accuracy'])"
   ]
  },
  {
   "cell_type": "code",
   "execution_count": 16,
   "id": "c64f7767",
   "metadata": {},
   "outputs": [
    {
     "name": "stdout",
     "output_type": "stream",
     "text": [
      "Epoch 1/25\n",
      "250/250 [==============================] - 51s 205ms/step - loss: 0.0207 - accuracy: 0.9933 - val_loss: 1.1420 - val_accuracy: 0.7760\n",
      "Epoch 2/25\n",
      "250/250 [==============================] - 58s 231ms/step - loss: 0.0368 - accuracy: 0.9879 - val_loss: 1.2081 - val_accuracy: 0.7835\n",
      "Epoch 3/25\n",
      "250/250 [==============================] - 65s 261ms/step - loss: 0.0196 - accuracy: 0.9935 - val_loss: 1.2396 - val_accuracy: 0.7860\n",
      "Epoch 4/25\n",
      "250/250 [==============================] - 63s 250ms/step - loss: 0.0128 - accuracy: 0.9960 - val_loss: 1.3902 - val_accuracy: 0.7965\n",
      "Epoch 5/25\n",
      "250/250 [==============================] - 60s 240ms/step - loss: 0.0160 - accuracy: 0.9955 - val_loss: 1.3126 - val_accuracy: 0.7820\n",
      "Epoch 6/25\n",
      "250/250 [==============================] - 61s 244ms/step - loss: 0.0242 - accuracy: 0.9921 - val_loss: 1.3089 - val_accuracy: 0.7765\n",
      "Epoch 7/25\n",
      "250/250 [==============================] - 60s 240ms/step - loss: 0.0250 - accuracy: 0.9910 - val_loss: 1.4392 - val_accuracy: 0.7730\n",
      "Epoch 8/25\n",
      "250/250 [==============================] - 64s 256ms/step - loss: 0.0221 - accuracy: 0.9926 - val_loss: 1.3907 - val_accuracy: 0.7765\n",
      "Epoch 9/25\n",
      "250/250 [==============================] - 66s 265ms/step - loss: 0.0185 - accuracy: 0.9931 - val_loss: 1.4359 - val_accuracy: 0.7730\n",
      "Epoch 10/25\n",
      "250/250 [==============================] - 62s 249ms/step - loss: 0.0079 - accuracy: 0.9979 - val_loss: 1.5227 - val_accuracy: 0.7670\n",
      "Epoch 11/25\n",
      "250/250 [==============================] - 66s 265ms/step - loss: 0.0271 - accuracy: 0.9904 - val_loss: 1.2855 - val_accuracy: 0.7720\n",
      "Epoch 12/25\n",
      "250/250 [==============================] - 62s 248ms/step - loss: 0.0180 - accuracy: 0.9934 - val_loss: 1.7506 - val_accuracy: 0.7680\n",
      "Epoch 13/25\n",
      "250/250 [==============================] - 59s 237ms/step - loss: 0.0240 - accuracy: 0.9911 - val_loss: 1.4790 - val_accuracy: 0.7785\n",
      "Epoch 14/25\n",
      "250/250 [==============================] - 61s 245ms/step - loss: 0.0116 - accuracy: 0.9969 - val_loss: 1.5926 - val_accuracy: 0.7830\n",
      "Epoch 15/25\n",
      "250/250 [==============================] - 63s 251ms/step - loss: 0.0134 - accuracy: 0.9960 - val_loss: 1.6383 - val_accuracy: 0.7720\n",
      "Epoch 16/25\n",
      "250/250 [==============================] - 61s 245ms/step - loss: 0.0196 - accuracy: 0.9926 - val_loss: 1.6214 - val_accuracy: 0.7650\n",
      "Epoch 17/25\n",
      "250/250 [==============================] - 63s 254ms/step - loss: 0.0160 - accuracy: 0.9948 - val_loss: 1.5021 - val_accuracy: 0.7750\n",
      "Epoch 18/25\n",
      "250/250 [==============================] - 63s 252ms/step - loss: 0.0244 - accuracy: 0.9910 - val_loss: 1.5644 - val_accuracy: 0.7755\n",
      "Epoch 19/25\n",
      "250/250 [==============================] - 61s 243ms/step - loss: 0.0198 - accuracy: 0.9948 - val_loss: 1.4986 - val_accuracy: 0.7870\n",
      "Epoch 20/25\n",
      "250/250 [==============================] - 59s 237ms/step - loss: 0.0135 - accuracy: 0.9951 - val_loss: 1.4825 - val_accuracy: 0.7780\n",
      "Epoch 21/25\n",
      "250/250 [==============================] - 62s 248ms/step - loss: 0.0080 - accuracy: 0.9976 - val_loss: 1.5636 - val_accuracy: 0.7740\n",
      "Epoch 22/25\n",
      "250/250 [==============================] - 64s 255ms/step - loss: 0.0108 - accuracy: 0.9966 - val_loss: 1.6159 - val_accuracy: 0.7720\n",
      "Epoch 23/25\n",
      "250/250 [==============================] - 61s 245ms/step - loss: 0.0291 - accuracy: 0.9902 - val_loss: 1.5609 - val_accuracy: 0.7790\n",
      "Epoch 24/25\n",
      "250/250 [==============================] - 56s 225ms/step - loss: 0.0099 - accuracy: 0.9966 - val_loss: 1.6765 - val_accuracy: 0.7775\n",
      "Epoch 25/25\n",
      "250/250 [==============================] - 60s 241ms/step - loss: 0.0108 - accuracy: 0.9965 - val_loss: 1.7120 - val_accuracy: 0.7810\n"
     ]
    }
   ],
   "source": [
    "history = cnn.fit(x = training_data, validation_data = test_data, epochs = 25)"
   ]
  },
  {
   "cell_type": "code",
   "execution_count": 17,
   "id": "92baac26",
   "metadata": {},
   "outputs": [
    {
     "data": {
      "text/plain": [
       "[<matplotlib.lines.Line2D at 0x167c040bfa0>]"
      ]
     },
     "execution_count": 17,
     "metadata": {},
     "output_type": "execute_result"
    },
    {
     "data": {
      "image/png": "[encoded data removed]",
      "text/plain": [
       "<Figure size 432x288 with 2 Axes>"
      ]
     },
     "metadata": {
      "needs_background": "light"
     },
     "output_type": "display_data"
    }
   ],
   "source": [
    "pyplot.subplot(211)\n",
    "pyplot.title('Binary Cross Entropy Loss')\n",
    "pyplot.plot(history.history['loss'], color='blue', label='train')\n",
    "pyplot.plot(history.history['val_loss'], color='orange', label='test')\n",
    " # plot accuracy\n",
    "pyplot.subplot(212)\n",
    "pyplot.title('Classification Accuracy')\n",
    "pyplot.plot(history.history['accuracy'], color='blue', label='train')\n",
    "pyplot.plot(history.history['val_accuracy'], color='orange', label='test')"
   ]
  },
  {
   "cell_type": "code",
   "execution_count": 27,
   "id": "74031f9b",
   "metadata": {},
   "outputs": [
    {
     "name": "stdout",
     "output_type": "stream",
     "text": [
      "1/1 [==============================] - 0s 16ms/step\n",
      "[[0.]]\n",
      "this is a  cat\n"
     ]
    }
   ],
   "source": [
    "# check our model\n",
    "from keras.preprocessing import image\n",
    "test_image = tf.keras.utils.load_img('dataset/pexels-pixabay-45201.jpg', target_size = (64,64)) #load testing image and check weather its a dog or cat\n",
    "                                                                                                # and size must be same as target_size before\n",
    "test_image = tf.keras.utils.img_to_array(test_image) #convert image into numpy array\n",
    "test_image =np.expand_dims(test_image,axis = 0)\n",
    "result = cnn.predict(test_image)\n",
    "print(result)\n",
    "# training_data.class_indices\n",
    "if result[0][0] == 1:\n",
    "    pred = 'dog'\n",
    "else:\n",
    "    pred = 'cat'\n",
    "print(\"this is a \",pred)"
   ]
  },
  {
   "cell_type": "code",
   "execution_count": null,
   "id": "3109f9de",
   "metadata": {},
   "outputs": [],
   "source": []
  }
 ],
 "metadata": {
  "kernelspec": {
   "display_name": "Python 3 (ipykernel)",
   "language": "python",
   "name": "python3"
  },
  "language_info": {
   "codemirror_mode": {
    "name": "ipython",
    "version": 3
   },
   "file_extension": ".py",
   "mimetype": "text/x-python",
   "name": "python",
   "nbconvert_exporter": "python",
   "pygments_lexer": "ipython3",
   "version": "3.9.7"
  }
 },
 "nbformat": 4,
 "nbformat_minor": 5
}
